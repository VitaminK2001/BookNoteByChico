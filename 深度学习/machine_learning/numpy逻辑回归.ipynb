{
 "cells": [
  {
   "cell_type": "code",
   "execution_count": 1,
   "metadata": {},
   "outputs": [
    {
     "name": "stdout",
     "output_type": "stream",
     "text": [
      "Cost after iteration 0: 0.6931471805599454\n",
      "Cost after iteration 1000: 0.001160093345992178\n",
      "Cost after iteration 2000: 0.0006491300880665668\n",
      "Cost after iteration 3000: 0.000462485964887221\n",
      "Cost after iteration 4000: 0.0003635915165060212\n",
      "Cost after iteration 5000: 0.0003016459230941665\n",
      "Cost after iteration 6000: 0.00025890699961499076\n",
      "Cost after iteration 7000: 0.00022749458542860155\n",
      "Cost after iteration 8000: 0.00020335181473262772\n",
      "Cost after iteration 9000: 0.00018416821309898886\n",
      "Cost after iteration 10000: 0.00016852716747729757\n",
      "Accuracy: 1.0\n"
     ]
    }
   ],
   "source": [
    "import numpy as np\n",
    "from sklearn.datasets import make_blobs\n",
    "\n",
    "class LogisticRegression:\n",
    "    def __init__(self, X, learning_rate=0.1, num_iters=10000):\n",
    "        self.lr = learning_rate\n",
    "        self.num_iters = num_iters\n",
    "\n",
    "        # m for training_examples, n for features\n",
    "        self.m, self.n = X.shape\n",
    "\n",
    "    def train(self, X, y):\n",
    "        # init weights\n",
    "        self.weights = np.zeros((self.n, 1))\n",
    "        self.bias = 0\n",
    "\n",
    "        for it in range(self.num_iters + 1):\n",
    "            # calculate hypothesis\n",
    "            y_predict = self.sigmoid(np.dot(X, self.weights) + self.bias)\n",
    "\n",
    "            # calculate cost\n",
    "            cost = (\n",
    "                -1 / self.m\n",
    "                * np.sum(y * np.log(y_predict) + (1 - y) * np.log(1 - y_predict))\n",
    "            )\n",
    "\n",
    "            # back prop / gradient calculations\n",
    "            dw = 1 / self.m * np.dot(X.T, (y_predict - y))\n",
    "            db = 1 / self.m * np.sum(y_predict - y)\n",
    "\n",
    "            # gradient descent update step\n",
    "            self.weights -= self.lr * dw\n",
    "            self.bias -= self.lr * db\n",
    "\n",
    "            # print cost sometimes\n",
    "            if it % 1000 == 0:\n",
    "                print(f\"Cost after iteration {it}: {cost}\")\n",
    "\n",
    "        return self.weights, self.bias\n",
    "\n",
    "    def predict(self, X):\n",
    "        y_predict = self.sigmoid(np.dot(X, self.weights) + self.bias) # w·x + b\n",
    "        y_predict_labels = y_predict > 0.5\n",
    "\n",
    "        return y_predict_labels\n",
    "\n",
    "    def sigmoid(self, z):\n",
    "        return 1 / (1 + np.exp(-z))\n",
    "\n",
    "\n",
    "if __name__ == \"__main__\":\n",
    "    np.random.seed(1)\n",
    "    # X是样本 y是标签\n",
    "    # center是每个cluster的标签数量\n",
    "    X, y = make_blobs(n_samples=1000, centers=2) # 生成数据集 center是label的数量 n_samples是训练样本的数量\n",
    "    # np.newaxis表示增加y的维度放在:后面增加列数，放在:前面增加行数\n",
    "    y = y[:, np.newaxis]\n",
    "\n",
    "    logreg = LogisticRegression(X)\n",
    "    w, b = logreg.train(X, y)\n",
    "    y_predict = logreg.predict(X)\n",
    "\n",
    "    print(f\"Accuracy: {np.sum(y==y_predict)/X.shape[0]}\")"
   ]
  },
  {
   "attachments": {},
   "cell_type": "markdown",
   "metadata": {},
   "source": [
    "[sklearn中make_blobs用法](https://blog.csdn.net/weixin_44177568/article/details/102213508)"
   ]
  }
 ],
 "metadata": {
  "kernelspec": {
   "display_name": "base",
   "language": "python",
   "name": "python3"
  },
  "language_info": {
   "codemirror_mode": {
    "name": "ipython",
    "version": 3
   },
   "file_extension": ".py",
   "mimetype": "text/x-python",
   "name": "python",
   "nbconvert_exporter": "python",
   "pygments_lexer": "ipython3",
   "version": "3.9.7 (default, Sep 16 2021, 08:50:36) \n[Clang 10.0.0 ]"
  },
  "orig_nbformat": 4,
  "vscode": {
   "interpreter": {
    "hash": "684b17d2421240f2bfb163267e97de2a4a7715e49eed0cbb8adb572a33a9a3cc"
   }
  }
 },
 "nbformat": 4,
 "nbformat_minor": 2
}
