{
 "cells": [
  {
   "cell_type": "code",
   "execution_count": 1,
   "metadata": {},
   "outputs": [
    {
     "name": "stdout",
     "output_type": "stream",
     "text": [
      "torch.Size([64, 10])\n"
     ]
    }
   ],
   "source": [
    "# modelCIFAR.py\n",
    "import torch\n",
    "from torch import nn\n",
    "\n",
    "# 从网上找的网络模型\n",
    "class Net(nn.Module):\n",
    "    # 构建网络模型首先是init和forward\n",
    "    def __init__(self) -> None:\n",
    "        super(Net, self).__init__()\n",
    "        # 避免在forward中写一长串\n",
    "        self.module = nn.Sequential(\n",
    "            nn.Conv2d(3, 32, 5, 1, 2), # kernelsize: 5  padding:（32 - (32-5+1)) / 2 = 2\n",
    "            nn.MaxPool2d(2),  # kernelsize : 2    32 / 16 = 2 (input channel / output channel)\n",
    "            nn.Conv2d(32, 32, 5, 1, 2),\n",
    "            nn.MaxPool2d(2),\n",
    "            nn.Conv2d(32, 64, 5, 1, 2),\n",
    "            nn.MaxPool2d(2),\n",
    "            nn.Flatten(),\n",
    "            nn.Linear(64*4*4, 64), # 64层 4x4的图片展平后的像素个数 要变成64个1x1的像素点\n",
    "            nn.Linear(64, 10)\n",
    "        ) \n",
    "    \n",
    "    def forward(self, x):\n",
    "        x = self.module(x)\n",
    "        return x\n",
    "\n",
    "if __name__ == '__main__':\n",
    "    net = Net()\n",
    "    # 验证网络模型的正确性，给定一个输入的尺寸，查看输出的尺寸是否正确\n",
    "    input = torch.ones((64,3,32,32))\n",
    "    output = net(input)\n",
    "    print(output.size())\n",
    "    # 返回64行数据，10列表示每一个数据在10个feature的概率"
   ]
  },
  {
   "cell_type": "code",
   "execution_count": null,
   "metadata": {},
   "outputs": [],
   "source": []
  }
 ],
 "metadata": {
  "kernelspec": {
   "display_name": "base",
   "language": "python",
   "name": "python3"
  },
  "language_info": {
   "codemirror_mode": {
    "name": "ipython",
    "version": 3
   },
   "file_extension": ".py",
   "mimetype": "text/x-python",
   "name": "python",
   "nbconvert_exporter": "python",
   "pygments_lexer": "ipython3",
   "version": "3.9.7"
  },
  "orig_nbformat": 4,
  "vscode": {
   "interpreter": {
    "hash": "684b17d2421240f2bfb163267e97de2a4a7715e49eed0cbb8adb572a33a9a3cc"
   }
  }
 },
 "nbformat": 4,
 "nbformat_minor": 2
}
