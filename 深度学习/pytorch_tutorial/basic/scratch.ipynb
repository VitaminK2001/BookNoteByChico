{
 "cells": [
  {
   "cell_type": "code",
   "execution_count": null,
   "metadata": {},
   "outputs": [],
   "source": [
    "import torch\n",
    "import numpy as np"
   ]
  },
  {
   "cell_type": "code",
   "execution_count": null,
   "metadata": {},
   "outputs": [],
   "source": [
    "x = torch.tensor(((1, 2, 3), (2, 2, 4)))\n",
    "print(x)        # tensor([[1, 2, 3],[2, 2, 4]])\n",
    "print(x.shape)  # torch.Size([2, 3])\n",
    "print(x.dtype)  # torch.int64"
   ]
  },
  {
   "cell_type": "code",
   "execution_count": null,
   "metadata": {},
   "outputs": [],
   "source": [
    "\n",
    "x = np.array(((1,2,3),(4,5,6)))\n",
    "print(x)        # [[1 2 3] [4 5 6]]\n",
    "print(x.shape)  # (2, 3)\n",
    "print(x.dtype)  # int64"
   ]
  },
  {
   "cell_type": "code",
   "execution_count": null,
   "metadata": {},
   "outputs": [],
   "source": [
    "\n",
    "x = torch.tensor(1.) \n",
    "print(x)        # tensor(1)\n",
    "print(x.dtype)  # torch.float32"
   ]
  },
  {
   "cell_type": "code",
   "execution_count": null,
   "metadata": {},
   "outputs": [],
   "source": [
    "\n",
    "# randn随机生成服从正态分布的数据\n",
    "y = np.random.randn(1, 2)  # [[-0.10183455  0.6257936 ]]\n",
    "print(y)\n",
    "# rand随机样本位于[0, 1)均匀分布\n",
    "y = np.random.rand(1, 2)   # [[0.73727091 0.76729174]] \n",
    "print(y)"
   ]
  },
  {
   "cell_type": "code",
   "execution_count": null,
   "metadata": {},
   "outputs": [],
   "source": [
    "\n",
    "# randn是随机生成服从正态分布的数据，返回值为张量。n的意思是normal distribution\n",
    "y = torch.randn(1, 2)      # tensor([[-0.3045,  0.4284]])\n",
    "# rand随机样本位于[0, 1)均匀分布，返回值为张量\n",
    "y = torch.rand(1, 2)       # tensor([[0.9222, 0.6748]])\n",
    "print(y)"
   ]
  },
  {
   "cell_type": "code",
   "execution_count": null,
   "metadata": {},
   "outputs": [],
   "source": [
    "# nn.Linear()  线性变换\n",
    "x = torch.randn(8, 2)\n",
    "x"
   ]
  },
  {
   "cell_type": "code",
   "execution_count": null,
   "metadata": {},
   "outputs": [],
   "source": [
    "m = torch.nn.Linear(2, 1)\n",
    "x = m(x)\n",
    "x "
   ]
  },
  {
   "attachments": {},
   "cell_type": "markdown",
   "metadata": {},
   "source": [
    "[神经网络的种类](https://blog.csdn.net/weixin_40519315/article/details/104514507)"
   ]
  }
 ],
 "metadata": {
  "kernelspec": {
   "display_name": "base",
   "language": "python",
   "name": "python3"
  },
  "language_info": {
   "codemirror_mode": {
    "name": "ipython",
    "version": 3
   },
   "file_extension": ".py",
   "mimetype": "text/x-python",
   "name": "python",
   "nbconvert_exporter": "python",
   "pygments_lexer": "ipython3",
   "version": "3.9.7 (default, Sep 16 2021, 08:50:36) \n[Clang 10.0.0 ]"
  },
  "orig_nbformat": 4,
  "vscode": {
   "interpreter": {
    "hash": "684b17d2421240f2bfb163267e97de2a4a7715e49eed0cbb8adb572a33a9a3cc"
   }
  }
 },
 "nbformat": 4,
 "nbformat_minor": 2
}
